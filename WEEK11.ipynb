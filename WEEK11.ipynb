{
 "cells": [
  {
   "cell_type": "code",
   "execution_count": null,
   "id": "183149ae-c1fb-483f-9995-d380abafb63e",
   "metadata": {},
   "outputs": [],
   "source": [
    "import cv2\n",
    "import numpy as np"
   ]
  },
  {
   "cell_type": "code",
   "execution_count": null,
   "id": "f1cea3b8-8384-4d0a-ba07-50a13df623fe",
   "metadata": {},
   "outputs": [],
   "source": [
    "src=cv2.imread('../data/lena.jpg', 0)\n",
    "\n",
    "#출력된 이미지를 보고 무엇이 ksize를 크게 한 것인지 알 수 있어야 한다\n",
    "#입력 depth랑 일치하게 하겠다\n",
    "# 픽셀의 평균 값을 계산하고 이 평균값으로 중심 픽셀 값을 대체\n",
    "dst1=cv2.boxFilter(src, ddepth=-1, ksize=(11,11)) #평균 필터라고도 불림\n",
    "dst2=cv2.boxFilter(src, ddepth=-1, ksize=(21,21))\n",
    "\n",
    "cv2.imshow('src',src)\n",
    "cv2.imshow('dst1',dst1)\n",
    "cv2.imshow('dst2',dst2)\n",
    "\n",
    "cv2.waitKey()\n",
    "cv2.destroyAllWindows()"
   ]
  },
  {
   "cell_type": "code",
   "execution_count": null,
   "id": "739742e2-c52d-44bf-aa09-bf220dff4752",
   "metadata": {},
   "outputs": [],
   "source": [
    "src=cv2.imread('../data/lena.jpg',cv2.IMREAD_GRAYSCALE)\n",
    "\n",
    "dst1=cv2.medianBlur(src,ksize=7) #튀는 애들을 영역의 중간값들로 덮어서 없애버린다 \n",
    "dst2=cv2.blur(src,ksize=(7,7))\n",
    "dst3=cv2.GaussianBlur(src,ksize=(7,7),sigmaX=0.0) #7by7 커널 사이즈에 알맞은 시그마를 알아서 자동 세팅\n",
    "dst4=cv2.GaussianBlur(src,ksize=(7,7),sigmaX=10.0) #커널 사이즈가 커질 수록 블러가 커진다\n",
    "\n",
    "cv2.imshow('src',src)\n",
    "cv2.imshow('dst1',dst1)\n",
    "cv2.imshow('dst2',dst2)\n",
    "cv2.imshow('dst3',dst3)\n",
    "cv2.imshow('dst4',dst4)\n",
    "\n",
    "cv2.waitKey()\n",
    "cv2.destroyAllWindows()"
   ]
  },
  {
   "cell_type": "code",
   "execution_count": null,
   "id": "289b8ccc-a242-46ea-8972-4860f34c2cb1",
   "metadata": {},
   "outputs": [],
   "source": [
    "src=cv2.imread('./data/lena.jpg',cv2.IMREAD_GRAYSCALE)\n",
    "\n",
    "dst1=cv2.boxFilter(src,ddepth=-1,ksize=(11,11))\n",
    "dst2=cv2.boxFilter(src,ddepth=-1,ksize=(21,21))\n",
    "#에지를 보존하면서 잡음을 제거하는 양방향 필터링\n",
    "#공간 거리와 픽셀 강도 차이를 모두 고려\n",
    "dst3=cv2.bilateralFilter(src,d=11,sigmaColor=10,sigmaSpace=10)\n",
    "dst4=cv2.bilateralFilter(src,d=-1,sigmaColor=10,sigmaSpace=10)\n",
    "\n",
    "cv2.imshow('src',src)\n",
    "cv2.imshow('dst1',dst1)\n",
    "cv2.imshow('dst2',dst2)\n",
    "cv2.imshow('dst3',dst3)\n",
    "cv2.imshow('dst4',dst4)\n",
    "\n",
    "cv2.waitKey()\n",
    "cv2.destroyAllWindows()"
   ]
  },
  {
   "cell_type": "code",
   "execution_count": null,
   "id": "ecf98d03-d804-4c5d-8fc2-c8e0fb893082",
   "metadata": {},
   "outputs": [],
   "source": [
    "src=cv2.imread('../data/lena_gray.jpg',cv2.IMREAD_GRAYSCALE)\n",
    "srcn=cv2.imread('../data/lena_gray_noise.jpg',cv2.IMREAD_GRAYSCALE)\n",
    "\n",
    "dst1=cv2.blur(srcn,ksize=(7,7)) #노이즈도 함께 블러처리가 됨\n",
    "dst2=cv2.GaussianBlur(srcn,ksize=(7,7),sigmaX=3.0) #노이즈도 함께 블러처리가 됨, blur보다는 검정 점이 더 진함\n",
    "dst3=cv2.bilateralFilter(srcn, d=-1,sigmaColor=5,sigmaSpace=5)\n",
    "dst4=cv2.medianBlur(srcn,ksize=3)\n",
    "\n",
    "cv2.imshow('src',src)\n",
    "cv2.imshow('srcn',srcn)\n",
    "cv2.imshow('dst1',dst1)\n",
    "cv2.imshow('dst2',dst2)\n",
    "cv2.imshow('dst3',dst3)\n",
    "cv2.imshow('dst4',dst4)\n",
    "\n",
    "cv2.waitKey()\n",
    "cv2.destroyAllWindows()"
   ]
  },
  {
   "cell_type": "code",
   "execution_count": null,
   "id": "380c19fe-0cf7-43a2-a02d-eefd4ba301ac",
   "metadata": {},
   "outputs": [],
   "source": [
    "#sobel filter\n",
    "import cv2\n",
    "import numpy as np\n",
    "from matplotlib import pyplot as plt\n",
    "\n",
    "src=cv2.imread('../data/rect.jpg',cv2.IMREAD_GRAYSCALE)\n",
    "\n",
    "gx=cv2.Sobel(src,cv2.CV_32F,1,0,ksize=3) #32비트 float 형으로 계산하겠다\n",
    "gy=cv2.Sobel(src,cv2.CV_32F,0,1,ksize=3)\n",
    "\n",
    "dstX=cv2.sqrt(np.abs(gx))\n",
    "dstX=cv2.normalize(dstX,None,0,255,cv2.NORM_MINMAX,dtype=cv2.CV_8U)\n",
    "\n",
    "dstY=cv2.sqrt(np.abs(gy))\n",
    "dstY=cv2.normalize(dstY,None,0,255,cv2.NORM_MINMAX,dtype=cv2.CV_8U)\n",
    "\n",
    "#결과를 이미지로 뿌리기 위해 한 것\n",
    "mag=cv2.magnitude(gx,gy)\n",
    "minVal,maxVal,minLoc,maxLoc=cv2.minMaxLoc(mag)\n",
    "print('mag:',minVal,maxVal,minLoc,maxLoc)\n",
    "\n",
    "dstM=cv2.normalize(mag,None,0,255,cv2.NORM_MINMAX,dtype=cv2.CV_8U)\n",
    "\n",
    "\n",
    "cv2.imshow('src',src)\n",
    "cv2.imshow('dstX',dstX)\n",
    "cv2.imshow('dstY',dstY)\n",
    "cv2.imshow('dstM',dstM)\n",
    "\n",
    "cv2.waitKey()\n",
    "cv2.destroyAllWindows()"
   ]
  },
  {
   "cell_type": "code",
   "execution_count": null,
   "id": "10a43e7a-404d-4ee5-b55b-6f8c4d995248",
   "metadata": {},
   "outputs": [],
   "source": [
    "#라플라시안 필터\n",
    "src=cv2.imread('../data/lena.jpg',cv2.IMREAD_GRAYSCALE)\n",
    "blur=cv2.GaussianBlur(src,ksize=(7,7),sigmaX=0.0)\n",
    "\n",
    "cv2.imshow('src',src)\n",
    "cv2.imshow('blur',blur)\n",
    "cv2.waitKey()\n",
    "cv2.destroyAllWindows()"
   ]
  },
  {
   "cell_type": "code",
   "execution_count": null,
   "id": "21c8e237-9b2b-4748-834b-f0b26b39f84a",
   "metadata": {},
   "outputs": [],
   "source": [
    "src=cv2.imread('../data/lena.jpg',cv2.IMREAD_GRAYSCALE)\n",
    "lap=cv2.Laplacian(src,cv2.CV_32F)\n",
    "\n",
    "minVal,maxVal,minLoc,maxLoc=cv2.minMaxLoc(lap)\n",
    "print('lap:',minVal,maxVal,minLoc,maxLoc)\n",
    "\n",
    "dst=cv2.convertScaleAbs(lap)\n",
    "dst=cv2.normalize(dst,None,0,255,cv2.NORM_MINMAX)\n",
    "\n",
    "cv2.imshow('lap',lap)\n",
    "cv2.imshow('dst',dst)\n",
    "\n",
    "cv2.waitKey()\n",
    "cv2.destroyAllWindows()"
   ]
  },
  {
   "cell_type": "code",
   "execution_count": null,
   "id": "345b3d6b-659b-4792-a1fc-050231efd455",
   "metadata": {},
   "outputs": [],
   "source": [
    "src=cv2.imread('../data/lena.jpg',cv2.IMREAD_GRAYSCALE)\n",
    "blur=cv2.GaussianBlur(src,ksize=(7,7),sigmaX=0.0)\n",
    "\n",
    "lap2=cv2.Laplacian(blur,cv2.CV_32F)\n",
    "minVal,maxVal,minLoc,maxLoc=cv2.minMaxLoc(lap2)\n",
    "print('lap2:',minVal,maxVal,minLoc,maxLoc)\n",
    "\n",
    "dst2=cv2.convertScaleAbs(lap2)\n",
    "dst2=cv2.normalize(dst2,None,0,255,cv2.NORM_MINMAX)\n",
    "\n",
    "cv2.imshow('lap2',lap2)\n",
    "cv2.imshow('dst',dst)\n",
    "cv2.imshow('dst2',dst2)\n",
    "\n",
    "cv2.waitKey()\n",
    "cv2.destroyAllWindows()"
   ]
  },
  {
   "cell_type": "code",
   "execution_count": null,
   "id": "474ac06b-6154-4f7a-b2ed-38f93ae6c6f8",
   "metadata": {},
   "outputs": [],
   "source": []
  }
 ],
 "metadata": {
  "kernelspec": {
   "display_name": "Python 3 (ipykernel)",
   "language": "python",
   "name": "python3"
  },
  "language_info": {
   "codemirror_mode": {
    "name": "ipython",
    "version": 3
   },
   "file_extension": ".py",
   "mimetype": "text/x-python",
   "name": "python",
   "nbconvert_exporter": "python",
   "pygments_lexer": "ipython3",
   "version": "3.12.2"
  }
 },
 "nbformat": 4,
 "nbformat_minor": 5
}
