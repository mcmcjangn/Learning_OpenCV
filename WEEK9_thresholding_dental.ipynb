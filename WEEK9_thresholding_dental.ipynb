{
 "cells": [
  {
   "cell_type": "code",
   "execution_count": null,
   "metadata": {},
   "outputs": [],
   "source": [
    "import numpy as np\n",
    "import cv2"
   ]
  },
  {
   "cell_type": "code",
   "execution_count": null,
   "metadata": {},
   "outputs": [],
   "source": [
    "def onChange(pos): # 트랙바 핸들러\n",
    "    global imagegray, idx\n",
    "    \n",
    "    # TODO: get trackbar position\n",
    "    thresh=cv2.getTrackbarPos('threshold','img')\n",
    "    # TODO: threshold\n",
    "    ret,dst=cv2.threshold(imagegray[idx], thresh, 255, cv2.THRESH_BINARY)\n",
    "    #print('ret=', ret)\n",
    "    cv2.imshow('mask',  dst)"
   ]
  },
  {
   "cell_type": "code",
   "execution_count": null,
   "metadata": {},
   "outputs": [],
   "source": [
    "def onMouse(event, x, y, flags, param):\n",
    "    global mask\n",
    "    if event == cv2.EVENT_LBUTTONDBLCLK:\n",
    "        \n",
    "        #흰 영역에 대한 히스토그램 내에서 OTSU를 다시 계산하면 치아 뼈의 위치들을 찾을 수 있음\n",
    "        ret, mask = cv2.threshold(param[0], 100, 255, cv2.THRESH_BINARY+cv2.THRESH_OTSU)\n",
    "        cv2.setTrackbarPos('threshold','img', int(ret))\n",
    "        cv2.imshow('mask',mask)"
   ]
  },
  {
   "cell_type": "code",
   "execution_count": null,
   "metadata": {},
   "outputs": [],
   "source": [
    "cnt = 3\n",
    "imageFile = []\n",
    "imageFile.append('./data/dental0.png')\n",
    "imageFile.append('./data/dental1.png')\n",
    "imageFile.append('./data/dental2.png')\n",
    "\n",
    "idx = 0\n",
    "imagegray = []\n",
    "for i in range(0, cnt):\n",
    "    imagegray.append(cv2.imread(imageFile[i], cv2.IMREAD_GRAYSCALE)) "
   ]
  },
  {
   "cell_type": "code",
   "execution_count": null,
   "metadata": {},
   "outputs": [],
   "source": [
    "img = cv2.imread('./data/dental0.png', cv2.IMREAD_GRAYSCALE)\n",
    "cv2.imshow('img',img)\n",
    "\n",
    "init_thresh = 128\n",
    "# TODO: create trackbar and set position to init_thresh\n",
    "cv2.createTrackbar('threshold', 'img', 0, 255, onChange)\n",
    "cv2.setTrackbarPos('threshold','img',init_thresh)\n",
    "\n",
    "# Create Mouse Event hadnler\n",
    "cv2.setMouseCallback('img', onMouse, [img])\n",
    "\n",
    "# TODO: thresholding at init_thresh and show it\n",
    "ret, mask=cv2.threshold(img, init_thresh, 255, cv2.THRESH_BINARY)\n",
    "cv2.imshow('mask',mask)\n",
    "\n",
    "\n",
    "\n",
    "while True:   \n",
    "    key = cv2.waitKeyEx(30)  \n",
    "    if key == 27:  #ESC\n",
    "        break  \n",
    "                \n",
    "    # 영상 변경\n",
    "    elif key == 0x250000: # left\n",
    "        #TODO: reduce idx\n",
    "        idx -= 1\n",
    "        if idx < 0 :\n",
    "            idx = cnt-1\n",
    "        \n",
    "    # 영상 변경\n",
    "    elif key == 0x270000: # right\n",
    "        #TODO: increase idx\n",
    "        idx += 1\n",
    "        idx%=cnt\n",
    "    #TODO: get trackbar position\n",
    "    thresh = cv2.getTrackbarPos('threshold', 'img')\n",
    "    \n",
    "    #TODO: threshold at current position\n",
    "    ret, dst = cv2.threshold(imagegray[idx], thresh, 255, cv2.THRESH_BINARY)\n",
    "    \n",
    "    #TODO: show the input image and the result of threshold    \n",
    "    cv2.imshow('img', imagegray[idx])\n",
    "    cv2.imshow('mask', dst)\n",
    "    \n",
    "cv2.destroyAllWindows()"
   ]
  },
  {
   "cell_type": "code",
   "execution_count": null,
   "metadata": {},
   "outputs": [],
   "source": []
  }
 ],
 "metadata": {
  "kernelspec": {
   "display_name": "Python 3 (ipykernel)",
   "language": "python",
   "name": "python3"
  },
  "language_info": {
   "codemirror_mode": {
    "name": "ipython",
    "version": 3
   },
   "file_extension": ".py",
   "mimetype": "text/x-python",
   "name": "python",
   "nbconvert_exporter": "python",
   "pygments_lexer": "ipython3",
   "version": "3.12.2"
  }
 },
 "nbformat": 4,
 "nbformat_minor": 4
}
