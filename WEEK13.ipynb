{
 "cells": [
  {
   "cell_type": "code",
   "execution_count": 17,
   "id": "27a6a4a2",
   "metadata": {},
   "outputs": [],
   "source": [
    "import cv2\n",
    "import numpy as np\n",
    "import imutils"
   ]
  },
  {
   "cell_type": "code",
   "execution_count": null,
   "id": "e2cccb8b",
   "metadata": {},
   "outputs": [],
   "source": [
    "src = cv2.imread('./data/lena.jpg', cv2.IMREAD_GRAYSCALE)\n",
    "edges1 = cv2.Canny(src, 50, 100)\n",
    "edges2 = cv2.Canny(src, 50, 200)\n",
    "\n",
    "cv2.imshow('src', src)\n",
    "cv2.imshow('edges1', edges1)\n",
    "cv2.imshow('edges2', edges2)\n",
    "cv2.waitKey()\n",
    "cv2.destroyAllWindows()"
   ]
  },
  {
   "cell_type": "code",
   "execution_count": 3,
   "id": "dcb6e3e8",
   "metadata": {},
   "outputs": [],
   "source": [
    "gray = cv2.imread('./data/coins.png', cv2.IMREAD_GRAYSCALE)\n",
    "blurred = cv2.GaussianBlur(gray, (5,5),0)\n",
    "\n",
    "wide = cv2.Canny(blurred, 10, 200)\n",
    "mid = cv2.Canny(blurred, 30, 150) \n",
    "tight = cv2.Canny(blurred, 240, 250) #에지 값이 강한 애들만 남음\n",
    "\n",
    "cv2.imshow('original', gray)\n",
    "cv2.imshow('Blurred Edge Map', blurred)\n",
    "cv2.imshow('Wide Edge Map', wide)\n",
    "cv2.imshow('Mid Edge Map', mid)\n",
    "cv2.imshow('Tight Edge Map', tight)\n",
    "cv2.waitKey()\n",
    "cv2.destroyAllWindows()"
   ]
  },
  {
   "cell_type": "code",
   "execution_count": 16,
   "id": "10b226db",
   "metadata": {},
   "outputs": [],
   "source": [
    "gray = cv2.imread('./data/teacup.jpg', cv2.IMREAD_GRAYSCALE)\n",
    "blurred = cv2.GaussianBlur(gray, (5,5),0)\n",
    "\n",
    "wide = cv2.Canny(blurred, 10, 200)\n",
    "tight = cv2.Canny(blurred, 240, 250) \n",
    "auto = imutils.auto_canny(blurred)\n",
    "\n",
    "cv2.imshow('original', gray)\n",
    "cv2.imshow('Blurred Edge Map', blurred)\n",
    "cv2.imshow('Wide Edge Map', wide)\n",
    "cv2.imshow('Tight Edge Map', tight)\n",
    "cv2.imshow('Auto Edge Map', auto)\n",
    "cv2.waitKey()\n",
    "cv2.destroyAllWindows()"
   ]
  },
  {
   "cell_type": "code",
   "execution_count": 22,
   "id": "04c42ed7",
   "metadata": {},
   "outputs": [
    {
     "name": "stdout",
     "output_type": "stream",
     "text": [
      "lines.shape (4, 1, 4)\n"
     ]
    }
   ],
   "source": [
    "#Hough Line\n",
    "src= cv2.imread('./data/rect.jpg')\n",
    "gray = cv2.cvtColor(src, cv2.COLOR_BGR2GRAY)\n",
    "edges = cv2.Canny(gray, 50, 100)\n",
    "lines = cv2.HoughLinesP(edges, rho=1, theta=np.pi/180.0, threshold=100)\n",
    "#추출된 엣지들 중에서 rho가 1이고,\n",
    "print('lines.shape', lines.shape)\n",
    "\n",
    "for line in  lines:\n",
    "    x1,y1,x2,y2 = line[0]\n",
    "    cv2.line(src, (x1,y1),(x2,y2),(0,0,255),2)\n",
    "\n",
    "cv2.imshow('edges', edges)\n",
    "cv2.imshow('src',src)\n",
    "cv2.waitKey()\n",
    "cv2.destroyAllWindows()"
   ]
  },
  {
   "cell_type": "code",
   "execution_count": 23,
   "id": "56637136",
   "metadata": {},
   "outputs": [
    {
     "name": "stdout",
     "output_type": "stream",
     "text": [
      "circles1.shapep (1, 3, 3)\n",
      "circles2.shapep (1, 6, 3)\n"
     ]
    }
   ],
   "source": [
    "#Hough Circle\n",
    "src1 = cv2.imread('./data/circles.jpg')\n",
    "gray1 = cv2.cvtColor(src1, cv2.COLOR_BGR2GRAY)\n",
    "\n",
    "circles1 =  cv2.HoughCircles(gray1, method = cv2.HOUGH_GRADIENT, \n",
    "                             dp=1, minDist=50, param2=15)\n",
    "\n",
    "print('circles1.shapep', circles1.shape)\n",
    "\n",
    "for circle in circles1[0,:]:\n",
    "    cx, cy, r = circle\n",
    "    cv2.circle(src1, (int(cx), int(cy)),int(r), (0,0,255),2)\n",
    "    \n",
    "#2\n",
    "src2 = cv2.imread('./data/circles2.jpg')\n",
    "gray2 = cv2.cvtColor(src2, cv2.COLOR_BGR2GRAY)\n",
    "circles2 =  cv2.HoughCircles(gray2, method = cv2.HOUGH_GRADIENT, \n",
    "                             dp=1, minDist=50, param2=15, minRadius=30, maxRadius=100)\n",
    "\n",
    "print('circles2.shapep', circles2.shape)\n",
    "\n",
    "for circle in circles2[0,:]:\n",
    "    cx, cy, r = circle\n",
    "    cv2.circle(src2, (int(cx), int(cy)),int(r), (0,0,255),2)\n",
    "    \n",
    "cv2.imshow('src1', src1)\n",
    "cv2.imshow('src2', src2)\n",
    "cv2.waitKey()\n",
    "cv2.destroyAllWindows()"
   ]
  },
  {
   "cell_type": "code",
   "execution_count": null,
   "id": "004acbc0",
   "metadata": {},
   "outputs": [],
   "source": [
    "#mini project\n",
    "img = cv2.imread('./data/coin_demo2.jpg')\n",
    "gray = cv2.cvtColor(img, cv2.COLOR_BGR2GRAY)\n",
    "\n",
    "# 각 코인의 갯수\n",
    "coin500 = 0\n",
    "coin100 = 0\n",
    "coin10 = cv2.HoughCircles(gray2, method = cv2.HOUGH_GRADIENT, \n",
    "                             dp=1, minDist=50, param2=15, minRadius=30, maxRadius=100)\n",
    "\n",
    "# r500보다 크면 500원, r100과 r500 사이이면 100원 r100보다 작으면 10원\n",
    "r500 = 50\n",
    "r100 = 40\n",
    "\n",
    "# TODO:\n",
    "\n",
    "\n",
    "# 결과 출력\n",
    "print(\"Total = \", coin500*500 + coin100*100 + coin10*10)\n",
    "\n",
    "# optional\n",
    "'''\n",
    "cv2.imshow('hough circle', img)\n",
    "cv2.waitKey(0)\n",
    "cv2.destroyAllWindows()\n",
    "'''"
   ]
  }
 ],
 "metadata": {
  "kernelspec": {
   "display_name": "Python 3 (ipykernel)",
   "language": "python",
   "name": "python3"
  },
  "language_info": {
   "codemirror_mode": {
    "name": "ipython",
    "version": 3
   },
   "file_extension": ".py",
   "mimetype": "text/x-python",
   "name": "python",
   "nbconvert_exporter": "python",
   "pygments_lexer": "ipython3",
   "version": "3.11.5"
  }
 },
 "nbformat": 4,
 "nbformat_minor": 5
}
