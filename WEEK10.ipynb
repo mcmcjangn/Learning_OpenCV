{
 "cells": [
  {
   "cell_type": "code",
   "execution_count": null,
   "id": "bb833d5f-4e0f-4922-807b-78c778327a16",
   "metadata": {},
   "outputs": [],
   "source": [
    "import cv2\n",
    "import numpy as np\n",
    "from matplotlib import pyplot as plt"
   ]
  },
  {
   "cell_type": "code",
   "execution_count": null,
   "id": "ec386467-ebb7-4474-a60b-6f6b1985f664",
   "metadata": {},
   "outputs": [],
   "source": [
    "#Histogram Equalization\n",
    "src = np.array([[0,0,0,0],\n",
    "                [1,1,3,5],\n",
    "                [6,1,1,3],\n",
    "                [4,3,1,7],\n",
    "               ], dtype=np.uint8)\n",
    "#3비트를 8bit로 늘렸기 때문에 값이 8비트로 나온다\n",
    "dst = cv2.equalizeHist(src)\n",
    "print('dst =', dst)"
   ]
  },
  {
   "cell_type": "code",
   "execution_count": null,
   "id": "6022d543-1361-4c40-816c-006a0cc4a7ef",
   "metadata": {},
   "outputs": [],
   "source": [
    "src = cv2.imread('../data/lena.jpg', cv2.IMREAD_GRAYSCALE)\n",
    "dst = cv2.equalizeHist(src)\n",
    "cv2.imshow('src', src)\n",
    "cv2.imshow('dst', dst)\n",
    "cv2.waitKey()\n",
    "cv2.destroyAllWindows()"
   ]
  },
  {
   "cell_type": "code",
   "execution_count": null,
   "id": "de49247e-74a2-4036-83ac-dab2c390ce10",
   "metadata": {},
   "outputs": [],
   "source": [
    "#\n",
    "src = cv2.imread('../data/lena.jpg')\n",
    "\n",
    "#1 h s v 색상 명도 채도, v가 밝기\n",
    "#hsv로 하니까 좀 까매짐. 레나가 때가 낌\n",
    "hsv = cv2.cvtColor(src, cv2.COLOR_BGR2HSV)\n",
    "h, s, v = cv2.split(hsv)\n",
    "#밝기값올리기\n",
    "v2 = cv2.equalizeHist(v)\n",
    "hsv2 = cv2.merge([h, s, v2])\n",
    "dst = cv2.cvtColor(hsv2, cv2.COLOR_HSV2BGR)\n",
    "\n",
    "#2\n",
    "#yCrCb_ y는 휘도라고 해서 밝기값.\n",
    "yCrCb = cv2.cvtColor(src, cv2.COLOR_BGR2YCrCb)\n",
    "y, Cr, Cb = cv2.split(yCrCb)\n",
    "y2 = cv2.equalizeHist(y)\n",
    "yCrCb2 = cv2.merge([y2, Cr, Cb])\n",
    "dst2 = cv2.cvtColor(yCrCb2, cv2.COLOR_YCrCb2BGR)\n",
    "\n",
    "cv2.imshow('src',src)\n",
    "cv2.imshow('dst',dst)\n",
    "cv2.imshow('dst2',dst2)\n",
    "cv2.waitKey()\n",
    "cv2.destroyAllWindows()"
   ]
  },
  {
   "cell_type": "code",
   "execution_count": null,
   "id": "b26d1cfa-8043-469a-b3b7-e1d3105130f6",
   "metadata": {},
   "outputs": [],
   "source": [
    "import cv2\n",
    "import numpy as np\n",
    "from matplotlib import pyplot as plt"
   ]
  },
  {
   "cell_type": "code",
   "execution_count": null,
   "id": "4a717298-94f4-48d9-8a23-dd939d6f5fe0",
   "metadata": {},
   "outputs": [],
   "source": [
    "#적응형 히스토그램 평활화\n",
    "src = cv2.imread('../data/tsukuba_l.png', cv2.IMREAD_GRAYSCALE)\n",
    "cv2.imshow('src', src)\n",
    "\n",
    "dst1=cv2.equalizeHist(src)\n",
    "cv2.imshow('dst1', dst1)\n",
    "#그리드 사이즈를 1 by 1로 했기 때문에 일반적으로 histogram equalization src와 같음\n",
    "clahe = cv2.createCLAHE(clipLimit=40, tileGridSize=(1,1))\n",
    "dst2 = clahe.apply(src)\n",
    "cv2.imshow('dst2', dst2)\n",
    "#밝은 부분은 너무 밝게 나오고 그런 경우에는 결국 CLAHE를 한다.\n",
    "clahe2 = cv2.createCLAHE(clipLimit=40, tileGridSize=(8,8))\n",
    "dst3 = clahe.apply(src)\n",
    "cv2.imshow('dst3', dst3)\n",
    "\n",
    "cv2.waitKey()\n",
    "cv2.destroyAllWindows()"
   ]
  },
  {
   "cell_type": "code",
   "execution_count": null,
   "id": "d1c3ae2f-932a-4109-94b3-c2ffa4a1d42d",
   "metadata": {},
   "outputs": [],
   "source": [
    "#histogram backprojection\n",
    "src = np.array([[0,0,0,0],\n",
    "                [1,1,3,5],\n",
    "                [6,1,1,3],\n",
    "                [4,3,1,7],\n",
    "               ], dtype=np.uint8)\n",
    "\n",
    "hist = cv2.calcHist(images=[src], channels=[0], mask=None, histSize=[4], ranges=[0,8])\n",
    "print('hist =', hist)\n",
    "\n",
    "backP = cv2.calcBackProject([src], [0], hist,[0,8], scale=1)\n",
    "print('backP =', backP)"
   ]
  },
  {
   "cell_type": "code",
   "execution_count": null,
   "id": "94fa9e33-6cb6-445b-8c7a-4af773716fe5",
   "metadata": {},
   "outputs": [],
   "source": [
    "#1\n",
    "#프룻 이미지 읽고 hsv로 바꾼다. (v채널(밝기값)을 가지고 백프로젝션을 할것)\n",
    "src=cv2.imread('../data/fruits.jpg')\n",
    "hsv = cv2.cvtColor(src, cv2.COLOR_BGR2HSV)\n",
    "h, s, v = cv2.split(hsv)\n",
    "\n",
    "#2\n",
    "#roi설정하기 (이미지에서 roi의 색상과 유사한 영역을 찾고자 함)\n",
    "roi=cv2.selectROI(src)\n",
    "print('roi =', roi)\n",
    "roi_h= h[roi[1]:roi[1]+roi[3], roi[0]:roi[0]+roi[2]]\n",
    "hist = cv2.calcHist(images=[roi_h], channels=[0], mask=None, histSize=[64], ranges=[0,256])\n",
    "backP = cv2.calcBackProject([h.astype(np.float32)], [0], hist,[0,256], scale=1.0)\n",
    "\n",
    "#3\n",
    "#내림차순 정렬 - 빈도수가 가장 높은 애가 맨 처음에 있을거고 그다음으로 낮아짐\n",
    "hist=cv2.sort(hist, cv2.SORT_EVERY_COLUMN+cv2.SORT_DESCENDING)\n",
    "print(f\"hist.shape={hist.shape}\")\n",
    "#print(f\"hist={hist}\")\n",
    "k=1\n",
    "#임계값을 맨 처음값으로 쓰겠다 (제일 큰 값)\n",
    "T=hist[k][0] - 1 # threshold\n",
    "print('T=',T)\n",
    "#맨 처음에 roi로 고른 색과 가장 유사한 색인 영역만 남음\n",
    "ret, dst = cv2.threshold(backP, T, 255, cv2.THRESH_BINARY)\n",
    "\n",
    "cv2.imshow('dst', dst)\n",
    "cv2.waitKey()\n",
    "cv2.destroyAllWindows()"
   ]
  },
  {
   "cell_type": "code",
   "execution_count": null,
   "id": "8899417e-06a8-4702-a446-ffb83f33f30f",
   "metadata": {},
   "outputs": [],
   "source": [
    "import cv2\n",
    "import numpy as np\n",
    "\n",
    "src=cv2.imread('../data/bckproj.bmp', cv2.IMREAD_GRAYSCALE)\n",
    "hist = cv2.calcHist(images=[src], channels=[0], mask=None, histSize=[256], ranges=[0,256])\n",
    "\n",
    "backP = cv2.calcBackProject([src.astype(np.float32)], [0], hist,[0,256], scale=1)\n",
    "\n",
    "min_val,max_val,min_loc,max_loc = cv2.minMaxLoc(backP)\n",
    "print('Gmin = ', min_val)\n",
    "print('Gmac = ', max_val)\n",
    "\n",
    "img_norm = cv2.normalize(backP, None, 0, 255, cv2.NORM_MINMAX)\n",
    "dst = cv2.convertScaleAbs(img_norm)\n",
    "cv2.imshow('src', src)\n",
    "cv2.imshow('dst', dst)\n",
    "cv2.waitKey()\n",
    "cv2.destroyAllWindows()"
   ]
  },
  {
   "cell_type": "code",
   "execution_count": null,
   "id": "14a83b08-08e7-4c62-8e9e-4784c6868013",
   "metadata": {},
   "outputs": [],
   "source": []
  },
  {
   "cell_type": "code",
   "execution_count": null,
   "id": "bf7230fc-c8e0-4282-83e9-19a91c116f05",
   "metadata": {},
   "outputs": [],
   "source": []
  }
 ],
 "metadata": {
  "kernelspec": {
   "display_name": "Python 3 (ipykernel)",
   "language": "python",
   "name": "python3"
  },
  "language_info": {
   "codemirror_mode": {
    "name": "ipython",
    "version": 3
   },
   "file_extension": ".py",
   "mimetype": "text/x-python",
   "name": "python",
   "nbconvert_exporter": "python",
   "pygments_lexer": "ipython3",
   "version": "3.12.2"
  }
 },
 "nbformat": 4,
 "nbformat_minor": 5
}
