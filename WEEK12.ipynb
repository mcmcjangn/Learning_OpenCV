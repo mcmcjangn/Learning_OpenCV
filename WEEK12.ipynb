{
 "cells": [
  {
   "cell_type": "code",
   "execution_count": null,
   "id": "6c58b708-9b81-482c-a3fa-939e7f950e66",
   "metadata": {},
   "outputs": [],
   "source": [
    "import cv2\n",
    "import numpy as np"
   ]
  },
  {
   "cell_type": "code",
   "execution_count": null,
   "id": "33111c18-5f89-4dca-9740-6e14fc14a3a1",
   "metadata": {},
   "outputs": [],
   "source": [
    "src = cv2.imread('../data/morphology.jpg', cv2.IMREAD_GRAYSCALE)\n",
    "#MORPH_RECT = 정방형, size는 3x3으로 선언\n",
    "kernel = cv2.getStructuringElement(shape=cv2.MORPH_RECT, ksize=(3,3))\n",
    "#iterations는 반복횟수\n",
    "#침식에도 넣고\n",
    "#밖에있던 노이즈는 없어지고 홀의 크기는 커졌다 _ 5번 적용 영상\n",
    "erode = cv2.erode(src,kernel,iterations = 5)\n",
    "#팽창에도 넣음\n",
    "#홀은 채워지고 노이즈도 커진다_ 각각 5번씩 적용한 영상\n",
    "dilate = cv2.dilate(src,kernel,iterations = 5)\n",
    "#위는 소스에 다이렉트로 넣었는데 erode2는 (팽창한 이미지를 침식연산했으므로) close 연산임\n",
    "#원본으로 돌리고 싶으면 팽창 연산의 횟수를 늘리면 됨\n",
    "erode2=cv2.erode(dilate,kernel,iterations=7)\n",
    "##dilate2=cv2.dilate(erode2,kernel,iterations=2)\n",
    "\n",
    "#각 연산의 결과를 예측할 수 알아야 함\n",
    "cv2.imshow('src',src)\n",
    "cv2.imshow('erode',erode)\n",
    "cv2.imshow('dilate',dilate)\n",
    "cv2.imshow('erode2',erode2)\n",
    "#cv2.imshow('dilate2',dilate2)\n",
    "cv2.waitKey()\n",
    "cv2.destroyAllWindows()"
   ]
  },
  {
   "cell_type": "code",
   "execution_count": null,
   "id": "e81f15e0-ecdb-4c25-a37a-0e3a9256e5bc",
   "metadata": {},
   "outputs": [],
   "source": [
    "src = cv2.imread('../data/morphology.jpg', cv2.IMREAD_GRAYSCALE)\n",
    "kernel = cv2.getStructuringElement(shape=cv2.MORPH_RECT, ksize=(3,3))\n",
    "closing = cv2.morphologyEx(src,cv2.MORPH_CLOSE,kernel,iterations = 5)\n",
    "#위 클로징한 결과를 오프닝\n",
    "opening = cv2.morphologyEx(closing,cv2.MORPH_OPEN,kernel,iterations=5)\n",
    "#\n",
    "gradient = cv2.morphologyEx(opening, cv2.MORPH_GRADIENT,kernel)\n",
    "#gradient=cv2.morphologyEx(opening,cv2.MORPH_GRADIENT,kernel,terations=5)\n",
    "\n",
    "#노이즈만 추출 \n",
    "tophat=cv2.morphologyEx(src,cv2.MORPH_TOPHAT,kernel,iterations=5)\n",
    "#사각형 내 홀만 추출\n",
    "blackhat=cv2.morphologyEx(src,cv2.MORPH_BLACKHAT,kernel,iterations=5)\n",
    "\n",
    "cv2.imshow('opening',opening)\n",
    "cv2.imshow('closing',closing)\n",
    "cv2.imshow('gradient',gradient)\n",
    "cv2.imshow('tophat',tophat)\n",
    "cv2.imshow('blackhat',blackhat)\n",
    "\n",
    "\n",
    "cv2.waitKey()\n",
    "cv2.destroyAllWindows()"
   ]
  },
  {
   "cell_type": "code",
   "execution_count": null,
   "id": "f335dc7b-36a2-4c0a-839e-c9983b890f52",
   "metadata": {},
   "outputs": [],
   "source": [
    "#template matching\n",
    "src = cv2.imread('../data/circuit.bmp', cv2.IMREAD_GRAYSCALE)\n",
    "tmp = src = cv2.imread('../data/circuit_tmp.bmp', cv2.IMREAD_GRAYSCALE)\n",
    "dst = cv2.cvtColor(src, cv2.COLOR_GRAY2BGR) \n",
    "\n",
    "R1 = cv2.matchTemplate(src, tmp, cv2.TM_SQDIFF_NORMED)\n",
    "minVal, _, minLoc, _ = cv2.minMaxLoc(R1)\n",
    "print('TMSQDIFF_NORMED:', minVal, minLoc)\n",
    "\n",
    "w,h = tmp.shape[:2]\n",
    "cv2.rectangle(dst, minLoc,(minLoc[0]+h, minLoc[1]+w), (255,0,0), 2)\n",
    "\n",
    "cv2.imshow('src', src)\n",
    "cv2.imshow('tmp', tmp)\n",
    "cv2.imshow('dst', dst)\n",
    "cv2.waitKey()\n",
    "cv2.destroyAllWindows()"
   ]
  },
  {
   "cell_type": "code",
   "execution_count": null,
   "id": "0cf3b263-8d17-4141-aed8-3a30a0b9baeb",
   "metadata": {},
   "outputs": [],
   "source": [
    "src = cv2.imread('../data/circuit_modified.bmp', cv2.IMREAD_GRAYSCALE)\n",
    "tmp = cv2.imread('../data/circuit_tmp.bmp', cv2.IMREAD_GRAYSCALE)\n",
    "dst = cv2.cvtColor(src, cv2.COLOR_GRAY2BGR) # 출력 표시 영상\n",
    "\n",
    "R1 = cv2.matchTemplate(src, tmp, cv2.TM_SQDIFF_NORMED)\n",
    "\n",
    "minVal, maxVal, minLoc, maxLoc = cv2.minMaxLoc(R1)\n",
    "\n",
    "print('TM_SQDIFF_NORMED: ', minVal, minLoc)\n",
    "\n",
    "y, x = maxLoc[:2]\n",
    "w,h = tmp.shape[:2]\n",
    "cv2.rectangle(dst,(y,x),(y+h,x+w), (255,0,0),2)"
   ]
  },
  {
   "cell_type": "code",
   "execution_count": null,
   "id": "7815d25e-a6fc-4a23-b819-879a266bbd4e",
   "metadata": {},
   "outputs": [],
   "source": [
    "src = cv2.imread('../data/alphabet.bmp', cv2.IMREAD_GRAYSCALE)\n",
    "tmp_A = cv2.imread('../data/A.bmp', cv2.IMREAD_GRAYSCALE)\n",
    "tmp_S = cv2.imread('../data/S.bmp', cv2.IMREAD_GRAYSCALE)\n",
    "tmp_b = cv2.imread('../data/b.bmp', cv2.IMREAD_GRAYSCALE)\n",
    "dst = cv2.cvtColor(src, cv2.COLOR_GRAY2BGR)\n",
    "\n",
    "#1\n",
    "R1 = cv2.matchTemplate(src, tmp_A, cv2.TM_SQDIFF_NORMED)\n",
    "minVal, _, minLoc,_ = cv2.minMaxLoc(R1)\n",
    "print('TM_SQDIFF_NORMED: ', minVal, minLoc)\n",
    "w, h = tmp_A.shape[:2]\n",
    "cv2.rectangle(dst, minLoc, (minLoc[0]+h, minLoc[1]+w),(255,0,0),2)\n",
    "\n",
    "\n",
    "#2\n",
    "R2 = cv2.matchTemplate(src, tmp_S, cv2.TM_CCORR_NORMED)\n",
    "_,maxVal,_, maxLoc = cv2.minMaxLoc(R2)\n",
    "print('TM_SQDIFF_NORMED: ', maxVal, maxLoc)\n",
    "w, h = tmp_S.shape[:2]\n",
    "cv2.rectangle(dst, maxLoc, (maxLoc[0]+h, maxLoc[1]+w),(0,255,0),2)\n",
    "\n",
    "\n",
    "#3\n",
    "R3 = cv2.matchTemplate(src, tmp_b, cv2.TM_CCOEFF_NORMED)\n",
    "_, maxVal, _, maxLoc = cv2.minMaxLoc(R3)\n",
    "print('TM_SQDIFF_NORMED: ', maxVal, maxLoc)\n",
    "w, h = tmp_b.shape[:2]\n",
    "cv2.rectangle(dst, maxLoc, (maxLoc[0]+h, maxLoc[1]+w),(255,0,255),2)\n",
    "\n",
    "cv2.imshow('dst', dst)\n",
    "cv2.waitKey()\n",
    "cv2.destroyAllWindows()"
   ]
  },
  {
   "cell_type": "code",
   "execution_count": null,
   "id": "a925de5f-b744-46b9-95b3-a426abb2cf62",
   "metadata": {},
   "outputs": [],
   "source": []
  }
 ],
 "metadata": {
  "kernelspec": {
   "display_name": "Python 3 (ipykernel)",
   "language": "python",
   "name": "python3"
  },
  "language_info": {
   "codemirror_mode": {
    "name": "ipython",
    "version": 3
   },
   "file_extension": ".py",
   "mimetype": "text/x-python",
   "name": "python",
   "nbconvert_exporter": "python",
   "pygments_lexer": "ipython3",
   "version": "3.12.2"
  }
 },
 "nbformat": 4,
 "nbformat_minor": 5
}
